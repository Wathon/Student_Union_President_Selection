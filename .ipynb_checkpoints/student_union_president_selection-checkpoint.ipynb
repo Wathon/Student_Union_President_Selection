{
 "cells": [
  {
   "cell_type": "markdown",
   "metadata": {},
   "source": [
    "# Student Union President Selection\n",
    "\n",
    "There are 20 students who are members of the Student Union. The Student Union Presidential\n",
    "Election was held last month and students voted. The President's term is 2 Years. However, the\n",
    "union doesn't know and has not announced the President yet. We'll count the total votes for\n",
    "each student and find out who is the elected President."
   ]
  },
  {
   "cell_type": "code",
   "execution_count": 59,
   "metadata": {},
   "outputs": [
    {
     "name": "stdout",
     "output_type": "stream",
     "text": [
      "<class 'pandas.core.frame.DataFrame'>\n",
      "RangeIndex: 20 entries, 0 to 19\n",
      "Data columns (total 2 columns):\n",
      " #   Column        Non-Null Count  Dtype \n",
      "---  ------        --------------  ----- \n",
      " 0   id            20 non-null     int64 \n",
      " 1   student_name  20 non-null     object\n",
      "dtypes: int64(1), object(1)\n",
      "memory usage: 448.0+ bytes\n",
      "None\n",
      "\n",
      "\n",
      "   id     student_name\n",
      "0   1      Ashley Reid\n",
      "1   2  Scott Donaldson\n",
      "2   3        Lisa Tate\n",
      "3   4    Austin Nelson\n",
      "4   5     Kurt Gregory\n",
      "--------------------------------------------------\n",
      "\n",
      "\n",
      "<class 'pandas.core.frame.DataFrame'>\n",
      "RangeIndex: 20 entries, 0 to 19\n",
      "Data columns (total 2 columns):\n",
      " #   Column         Non-Null Count  Dtype \n",
      "---  ------         --------------  ----- \n",
      " 0   student_id     20 non-null     int64 \n",
      " 1   vote_1,vote_2  20 non-null     object\n",
      "dtypes: int64(1), object(1)\n",
      "memory usage: 448.0+ bytes\n",
      "None\n",
      "   student_id vote_1,vote_2\n",
      "0           1           1,6\n",
      "1           2           2,2\n",
      "2           3          3,18\n",
      "3           4           4,2\n",
      "4           5           5,7\n",
      "--------------------------------------------------\n",
      "\n",
      "\n"
     ]
    }
   ],
   "source": [
    "# import panda library\n",
    "import pandas as pd\n",
    "\n",
    "# read csv data\n",
    "students = pd.read_csv(\"data/Students.csv\")\n",
    "polls = pd.read_csv(\"data/Polls.csv\")\n",
    "\n",
    "# check of data pattern\n",
    "print(students.info())\n",
    "print('\\n')\n",
    "print(students.head())\n",
    "print(\"--------------------------------------------------\")\n",
    "print('\\n')\n",
    "print(polls.info())\n",
    "print(polls.head())\n",
    "print(\"--------------------------------------------------\")\n",
    "print('\\n')"
   ]
  },
  {
   "cell_type": "markdown",
   "metadata": {},
   "source": [
    "### Data cleaning and preparation\n",
    "We'll split `vote_1,vote2` column to two columns as integer type for counting."
   ]
  },
  {
   "cell_type": "code",
   "execution_count": 62,
   "metadata": {},
   "outputs": [
    {
     "name": "stdout",
     "output_type": "stream",
     "text": [
      "   student_id vote_1,vote_2  vote_1  vote_2\n",
      "0           1           1,6       1       6\n",
      "1           2           2,2       2       2\n",
      "2           3          3,18       3      18\n",
      "3           4           4,2       4       2\n",
      "4           5           5,7       5       7\n"
     ]
    }
   ],
   "source": [
    "# split vote_1 and vote_2 with two column\n",
    "polls['vote_1'] = polls['vote_1,vote_2'].str.split(\",\").str[0].astype(int)\n",
    "polls['vote_2'] = polls['vote_1,vote_2'].str.split(\",\").str[1].astype(int)\n",
    "\n",
    "print(polls.head())"
   ]
  },
  {
   "cell_type": "markdown",
   "metadata": {},
   "source": [
    "### Data transformation\n",
    "We'll calculate the total count for each students"
   ]
  },
  {
   "cell_type": "code",
   "execution_count": 65,
   "metadata": {},
   "outputs": [
    {
     "data": {
      "text/plain": [
       "1    2\n",
       "2    3\n",
       "3    1\n",
       "4    3\n",
       "5    1\n",
       "dtype: int64"
      ]
     },
     "execution_count": 65,
     "metadata": {},
     "output_type": "execute_result"
    }
   ],
   "source": [
    "vote_1 = polls['vote_1'].value_counts()\n",
    "vote_2 = polls['vote_2'].value_counts()\n",
    "total_vote = vote_1.add(vote_2, fill_value=0).astype(int)\n",
    "total_vote.head()"
   ]
  },
  {
   "cell_type": "markdown",
   "metadata": {},
   "source": [
    "We'll combine for above vote calculation result and student"
   ]
  },
  {
   "cell_type": "code",
   "execution_count": 66,
   "metadata": {},
   "outputs": [
    {
     "data": {
      "text/html": [
       "<div>\n",
       "<style scoped>\n",
       "    .dataframe tbody tr th:only-of-type {\n",
       "        vertical-align: middle;\n",
       "    }\n",
       "\n",
       "    .dataframe tbody tr th {\n",
       "        vertical-align: top;\n",
       "    }\n",
       "\n",
       "    .dataframe thead th {\n",
       "        text-align: right;\n",
       "    }\n",
       "</style>\n",
       "<table border=\"1\" class=\"dataframe\">\n",
       "  <thead>\n",
       "    <tr style=\"text-align: right;\">\n",
       "      <th></th>\n",
       "      <th>id</th>\n",
       "      <th>student_name</th>\n",
       "      <th>vote</th>\n",
       "    </tr>\n",
       "  </thead>\n",
       "  <tbody>\n",
       "    <tr>\n",
       "      <th>19</th>\n",
       "      <td>20</td>\n",
       "      <td>Keith Becker</td>\n",
       "      <td>4</td>\n",
       "    </tr>\n",
       "    <tr>\n",
       "      <th>5</th>\n",
       "      <td>6</td>\n",
       "      <td>Kimberly Guzman</td>\n",
       "      <td>3</td>\n",
       "    </tr>\n",
       "    <tr>\n",
       "      <th>17</th>\n",
       "      <td>18</td>\n",
       "      <td>Sheri Franco</td>\n",
       "      <td>3</td>\n",
       "    </tr>\n",
       "    <tr>\n",
       "      <th>1</th>\n",
       "      <td>2</td>\n",
       "      <td>Scott Donaldson</td>\n",
       "      <td>3</td>\n",
       "    </tr>\n",
       "    <tr>\n",
       "      <th>6</th>\n",
       "      <td>7</td>\n",
       "      <td>Michael Charles</td>\n",
       "      <td>3</td>\n",
       "    </tr>\n",
       "    <tr>\n",
       "      <th>10</th>\n",
       "      <td>11</td>\n",
       "      <td>Marc Evans</td>\n",
       "      <td>3</td>\n",
       "    </tr>\n",
       "    <tr>\n",
       "      <th>3</th>\n",
       "      <td>4</td>\n",
       "      <td>Austin Nelson</td>\n",
       "      <td>3</td>\n",
       "    </tr>\n",
       "    <tr>\n",
       "      <th>7</th>\n",
       "      <td>8</td>\n",
       "      <td>Matthew Turner</td>\n",
       "      <td>2</td>\n",
       "    </tr>\n",
       "    <tr>\n",
       "      <th>11</th>\n",
       "      <td>12</td>\n",
       "      <td>Ivan Cannon</td>\n",
       "      <td>2</td>\n",
       "    </tr>\n",
       "    <tr>\n",
       "      <th>14</th>\n",
       "      <td>15</td>\n",
       "      <td>Samantha Blackwell</td>\n",
       "      <td>2</td>\n",
       "    </tr>\n",
       "    <tr>\n",
       "      <th>18</th>\n",
       "      <td>19</td>\n",
       "      <td>Kimberly Jones</td>\n",
       "      <td>2</td>\n",
       "    </tr>\n",
       "    <tr>\n",
       "      <th>0</th>\n",
       "      <td>1</td>\n",
       "      <td>Ashley Reid</td>\n",
       "      <td>2</td>\n",
       "    </tr>\n",
       "    <tr>\n",
       "      <th>4</th>\n",
       "      <td>5</td>\n",
       "      <td>Kurt Gregory</td>\n",
       "      <td>1</td>\n",
       "    </tr>\n",
       "    <tr>\n",
       "      <th>8</th>\n",
       "      <td>9</td>\n",
       "      <td>Leslie Weiss</td>\n",
       "      <td>1</td>\n",
       "    </tr>\n",
       "    <tr>\n",
       "      <th>9</th>\n",
       "      <td>10</td>\n",
       "      <td>Jose Mata</td>\n",
       "      <td>1</td>\n",
       "    </tr>\n",
       "    <tr>\n",
       "      <th>12</th>\n",
       "      <td>13</td>\n",
       "      <td>Robert Buchanan</td>\n",
       "      <td>1</td>\n",
       "    </tr>\n",
       "    <tr>\n",
       "      <th>13</th>\n",
       "      <td>14</td>\n",
       "      <td>Cameron King</td>\n",
       "      <td>1</td>\n",
       "    </tr>\n",
       "    <tr>\n",
       "      <th>15</th>\n",
       "      <td>16</td>\n",
       "      <td>David Hudson</td>\n",
       "      <td>1</td>\n",
       "    </tr>\n",
       "    <tr>\n",
       "      <th>16</th>\n",
       "      <td>17</td>\n",
       "      <td>Curtis Williamson</td>\n",
       "      <td>1</td>\n",
       "    </tr>\n",
       "    <tr>\n",
       "      <th>2</th>\n",
       "      <td>3</td>\n",
       "      <td>Lisa Tate</td>\n",
       "      <td>1</td>\n",
       "    </tr>\n",
       "  </tbody>\n",
       "</table>\n",
       "</div>"
      ],
      "text/plain": [
       "    id        student_name  vote\n",
       "19  20        Keith Becker     4\n",
       "5    6     Kimberly Guzman     3\n",
       "17  18        Sheri Franco     3\n",
       "1    2     Scott Donaldson     3\n",
       "6    7     Michael Charles     3\n",
       "10  11          Marc Evans     3\n",
       "3    4       Austin Nelson     3\n",
       "7    8      Matthew Turner     2\n",
       "11  12         Ivan Cannon     2\n",
       "14  15  Samantha Blackwell     2\n",
       "18  19      Kimberly Jones     2\n",
       "0    1         Ashley Reid     2\n",
       "4    5        Kurt Gregory     1\n",
       "8    9        Leslie Weiss     1\n",
       "9   10           Jose Mata     1\n",
       "12  13     Robert Buchanan     1\n",
       "13  14        Cameron King     1\n",
       "15  16        David Hudson     1\n",
       "16  17   Curtis Williamson     1\n",
       "2    3           Lisa Tate     1"
      ]
     },
     "execution_count": 66,
     "metadata": {},
     "output_type": "execute_result"
    }
   ],
   "source": [
    "students['vote'] = total_vote.values\n",
    "students.sort_values(by='vote', ascending=False)"
   ]
  },
  {
   "cell_type": "markdown",
   "metadata": {},
   "source": [
    "Besed on the result, the president of student union selection is ***Keith Becker*** with four votes."
   ]
  },
  {
   "cell_type": "code",
   "execution_count": null,
   "metadata": {},
   "outputs": [],
   "source": []
  }
 ],
 "metadata": {
  "kernelspec": {
   "display_name": "Python 3",
   "language": "python",
   "name": "python3"
  },
  "language_info": {
   "codemirror_mode": {
    "name": "ipython",
    "version": 3
   },
   "file_extension": ".py",
   "mimetype": "text/x-python",
   "name": "python",
   "nbconvert_exporter": "python",
   "pygments_lexer": "ipython3",
   "version": "3.8.5"
  }
 },
 "nbformat": 4,
 "nbformat_minor": 4
}
